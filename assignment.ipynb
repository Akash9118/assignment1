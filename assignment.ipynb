{
 "cells": [
  {
   "cell_type": "code",
   "execution_count": 1,
   "id": "d5bec5e2-bd9f-4eae-88ed-d09235994ee1",
   "metadata": {},
   "outputs": [
    {
     "ename": "SyntaxError",
     "evalue": "invalid syntax (3859518107.py, line 1)",
     "output_type": "error",
     "traceback": [
      "\u001b[0;36m  Cell \u001b[0;32mIn[1], line 1\u001b[0;36m\u001b[0m\n\u001b[0;31m    Answer 1: comment code as a separate line,besie the c\u001b[0m\n\u001b[0m           ^\u001b[0m\n\u001b[0;31mSyntaxError\u001b[0m\u001b[0;31m:\u001b[0m invalid syntax\n"
     ]
    }
   ],
   "source": [
    "Answer 1: comment code as a separate line,besie the c\n",
    "rossponding statement of \n",
    "code,or as a multi-linecomment .\n",
    "type:\n",
    "    identified with a hash symbol,#\n",
    "    and extend to the end of line."
   ]
  },
  {
   "cell_type": "code",
   "execution_count": 3,
   "id": "d327050d-8b13-4eb3-bedc-fd0c5c4f48d8",
   "metadata": {},
   "outputs": [
    {
     "ename": "SyntaxError",
     "evalue": "invalid syntax (711184817.py, line 1)",
     "output_type": "error",
     "traceback": [
      "\u001b[0;36m  Cell \u001b[0;32mIn[3], line 1\u001b[0;36m\u001b[0m\n\u001b[0;31m    Answer 2\u001b[0m\n\u001b[0m           ^\u001b[0m\n\u001b[0;31mSyntaxError\u001b[0m\u001b[0;31m:\u001b[0m invalid syntax\n"
     ]
    }
   ],
   "source": [
    "Answer 2\n",
    "    A  variable is a string of\n",
    "    character and numbers associated \n",
    "    with a piece of informoation.\n",
    "    its also possible to declare and\n",
    "    it a vaule in same line,\n",
    "    "
   ]
  },
  {
   "cell_type": "code",
   "execution_count": null,
   "id": "d4db18bd-f97b-4526-86ca-6f76a7a51632",
   "metadata": {},
   "outputs": [],
   "source": [
    "ans 3:\n",
    "    the use of name funcation."
   ]
  },
  {
   "cell_type": "code",
   "execution_count": null,
   "id": "51164f13-f19c-4f33-85eb-e9e4c536fe52",
   "metadata": {},
   "outputs": [],
   "source": [
    "Ans 4:\n",
    "    open a commend line or terminal and then\n",
    "    type in python,or python3 depending on your\n",
    "    python instalaation,and then hit enter,"
   ]
  },
  {
   "cell_type": "code",
   "execution_count": 5,
   "id": "60d491b5-3e29-4eb9-b4d2-30c60ed16c64",
   "metadata": {},
   "outputs": [
    {
     "name": "stdout",
     "output_type": "stream",
     "text": [
      "[2, 3]\n"
     ]
    }
   ],
   "source": [
    "my_list=[1,2,3,4,5]\n",
    "print(my_list[1:3])"
   ]
  },
  {
   "cell_type": "code",
   "execution_count": null,
   "id": "6700b964-55a7-40b8-9925-283232e8cc1e",
   "metadata": {},
   "outputs": [],
   "source": [
    "import cmath"
   ]
  }
 ],
 "metadata": {
  "kernelspec": {
   "display_name": "Python 3 (ipykernel)",
   "language": "python",
   "name": "python3"
  },
  "language_info": {
   "codemirror_mode": {
    "name": "ipython",
    "version": 3
   },
   "file_extension": ".py",
   "mimetype": "text/x-python",
   "name": "python",
   "nbconvert_exporter": "python",
   "pygments_lexer": "ipython3",
   "version": "3.10.8"
  }
 },
 "nbformat": 4,
 "nbformat_minor": 5
}
